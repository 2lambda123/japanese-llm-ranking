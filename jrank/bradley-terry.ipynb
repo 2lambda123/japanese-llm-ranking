{
 "cells": [
  {
   "cell_type": "markdown",
   "id": "57f8eebc-d8a1-4af0-9f26-1fc78237c609",
   "metadata": {},
   "source": [
    "# Introduction"
   ]
  },
  {
   "cell_type": "markdown",
   "id": "2f889567-50f9-42e7-91e4-1eab91395be3",
   "metadata": {},
   "source": [
    "This notebook uses the Bradley-Terry model to infer the relative strength of Japanese Large Language Models. As input it takes a list of matchups between models. Bradley-Terry is the underlying model behind Elo scores, and the difference is that here we do a maximum a posterior Bayesian analysis to infer the Bradley-Terry strengths rather than the incremental update formula used by Elo. See the [blog post](https://yuzuai.jp/blog/rakuda) for more details."
   ]
  },
  {
   "cell_type": "code",
   "execution_count": 1,
   "id": "2ca71aae-8eb0-41a0-8509-6fffa393ce0c",
   "metadata": {},
   "outputs": [],
   "source": [
    "import json\n",
    "import math\n",
    "from datetime import datetime\n",
    "\n",
    "import emcee\n",
    "import matplotlib\n",
    "import matplotlib.pyplot as plt\n",
    "import matplotlib.ticker as mtick\n",
    "import numpy as np\n",
    "import pandas as pd\n",
    "from IPython.display import Image, Markdown, display\n",
    "from scipy.optimize import minimize\n",
    "from utils import load_jsonl\n",
    "\n",
    "pd.options.display.float_format = \"{:.3f}\".format\n",
    "plt.rcParams[\"text.usetex\"] = False"
   ]
  },
  {
   "cell_type": "markdown",
   "id": "03c87cc3-91f9-45ed-9cad-6e6d672abb73",
   "metadata": {},
   "source": [
    "# Loading the data"
   ]
  },
  {
   "cell_type": "markdown",
   "id": "0d2de56b-a0e6-4c03-bca3-015178506be2",
   "metadata": {},
   "source": [
    "This notebook is the final step of the jrank pipeline, importing the output of match results produced by matchmaker.py"
   ]
  },
  {
   "cell_type": "code",
   "execution_count": 2,
   "id": "d2520520-49a8-4b55-a39d-76ae7ab22997",
   "metadata": {},
   "outputs": [
    {
     "data": {
      "text/html": [
       "<div>\n",
       "<style scoped>\n",
       "    .dataframe tbody tr th:only-of-type {\n",
       "        vertical-align: middle;\n",
       "    }\n",
       "\n",
       "    .dataframe tbody tr th {\n",
       "        vertical-align: top;\n",
       "    }\n",
       "\n",
       "    .dataframe thead th {\n",
       "        text-align: right;\n",
       "    }\n",
       "</style>\n",
       "<table border=\"1\" class=\"dataframe\">\n",
       "  <thead>\n",
       "    <tr style=\"text-align: right;\">\n",
       "      <th></th>\n",
       "      <th>model1_id</th>\n",
       "      <th>model2_id</th>\n",
       "      <th>score</th>\n",
       "    </tr>\n",
       "  </thead>\n",
       "  <tbody>\n",
       "    <tr>\n",
       "      <th>188</th>\n",
       "      <td>rwkv-world-jpn-55</td>\n",
       "      <td>gpt-4:20230713</td>\n",
       "      <td>0.000</td>\n",
       "    </tr>\n",
       "    <tr>\n",
       "      <th>592</th>\n",
       "      <td>super-torin-sama-alpha2</td>\n",
       "      <td>izumi-lab/stormy-7b-10ep</td>\n",
       "      <td>1.000</td>\n",
       "    </tr>\n",
       "    <tr>\n",
       "      <th>269</th>\n",
       "      <td>rwkv-world-jpn-55</td>\n",
       "      <td>super-torin-sama-alpha2</td>\n",
       "      <td>0.000</td>\n",
       "    </tr>\n",
       "    <tr>\n",
       "      <th>223</th>\n",
       "      <td>super-torin-sama-alpha2</td>\n",
       "      <td>gpt-4:20230713</td>\n",
       "      <td>0.000</td>\n",
       "    </tr>\n",
       "    <tr>\n",
       "      <th>522</th>\n",
       "      <td>cyberagent/open-calm-7b</td>\n",
       "      <td>super-torin-sama-alpha2</td>\n",
       "      <td>0.000</td>\n",
       "    </tr>\n",
       "  </tbody>\n",
       "</table>\n",
       "</div>"
      ],
      "text/plain": [
       "                   model1_id                 model2_id  score\n",
       "188        rwkv-world-jpn-55            gpt-4:20230713  0.000\n",
       "592  super-torin-sama-alpha2  izumi-lab/stormy-7b-10ep  1.000\n",
       "269        rwkv-world-jpn-55   super-torin-sama-alpha2  0.000\n",
       "223  super-torin-sama-alpha2            gpt-4:20230713  0.000\n",
       "522  cyberagent/open-calm-7b   super-torin-sama-alpha2  0.000"
      ]
     },
     "execution_count": 2,
     "metadata": {},
     "output_type": "execute_result"
    }
   ],
   "source": [
    "tournament_file = \"./tournaments/rakuda_v1_gpt4.jsonl\"\n",
    "charts_prefix = \"./charts/\" + tournament_file.split(\"/\")[-1].split(\".\")[0]\n",
    "\n",
    "with open(tournament_file, \"r\") as f:\n",
    "    tournament = json.load(f)\n",
    "\n",
    "df = pd.DataFrame(tournament[\"matches\"])\n",
    "df = df.sample(frac=1)\n",
    "df = df[[\"model1_id\", \"model2_id\", \"score\"]]\n",
    "df[\"score\"] = df[\"score\"].map({1: 1, 2: 0, 3: 0.5})\n",
    "\n",
    "\n",
    "df.sample(5)  # score 1 -> model 1 victory, 0 -> model 2 victory, 0.5 -> draw"
   ]
  },
  {
   "cell_type": "code",
   "execution_count": 3,
   "id": "34089cd4-9763-4cfe-80c5-81d587aa1add",
   "metadata": {},
   "outputs": [
    {
     "name": "stdout",
     "output_type": "stream",
     "text": [
      "Score distribution: {0.0: 370, 1.0: 356, 0.5: 74}\n"
     ]
    }
   ],
   "source": [
    "from collections import Counter\n",
    "\n",
    "score_distribution = Counter(df[\"score\"])\n",
    "print(f\"Score distribution: {dict(score_distribution)}\")"
   ]
  },
  {
   "cell_type": "code",
   "execution_count": 5,
   "id": "e357ea0d-cbb2-4006-95d9-8fc8c924116e",
   "metadata": {},
   "outputs": [
    {
     "data": {
      "text/plain": [
       "super-torin-sama-alpha2                            0\n",
       "rinna/japanese-gpt-neox-3.6b-instruction-ppo       1\n",
       "izumi-lab/stormy-7b-10ep                           2\n",
       "gpt-4:20230713                                     3\n",
       "rinna/japanese-gpt-neox-3.6b                       4\n",
       "gpt-3.5-turbo-0301:20230614                        5\n",
       "rwkv-world-jpn-55                                  6\n",
       "cyberagent/open-calm-7b                            7\n",
       "rinna/japanese-gpt-neox-3.6b-instruction-sft-v2    8\n",
       "dtype: int64"
      ]
     },
     "execution_count": 5,
     "metadata": {},
     "output_type": "execute_result"
    }
   ],
   "source": [
    "models = pd.concat([df[\"model1_id\"], df[\"model2_id\"]]).unique()\n",
    "models = pd.Series(np.arange(len(models)), index=models)\n",
    "models"
   ]
  },
  {
   "cell_type": "code",
   "execution_count": 7,
   "id": "9b06f217-5ac5-4c8a-b083-ce2187c047f2",
   "metadata": {},
   "outputs": [
    {
     "name": "stdout",
     "output_type": "stream",
     "text": [
      "9 models played 800 matches\n"
     ]
    }
   ],
   "source": [
    "# Number of models\n",
    "N = len(models)\n",
    "# Number of matches\n",
    "M = len(df)\n",
    "\n",
    "print(f\"{N} models played {M} matches\")"
   ]
  },
  {
   "cell_type": "code",
   "execution_count": 6,
   "id": "7de996ab-e639-4406-a08a-2517a77ad47f",
   "metadata": {},
   "outputs": [],
   "source": [
    "# For display purposes it's helpful to have a short version of the model names\n",
    "short_names = {}\n",
    "for name in models.index:\n",
    "    if \"gpt-3.5\" in name:\n",
    "        short_name = \"gpt-3.5\"\n",
    "    elif \"gpt-4\" in name:\n",
    "        short_name = \"gpt-4\"\n",
    "    elif \"super-torin\" in name:\n",
    "        short_name = \"super-torin\"\n",
    "    elif \"open-calm-7b\" in name:\n",
    "        short_name = \"open-calm-7b\"\n",
    "    elif \"stormy\" in name:\n",
    "        short_name = \"stormy-7b\"\n",
    "    elif \"rwkv-world\" in name:\n",
    "        short_name = \"rwkv-world\"\n",
    "    elif \"instruction-ppo\" in name:\n",
    "        short_name = \"rinna-3.6b-PPO\"\n",
    "    elif \"instruction-sft\" in name:\n",
    "        short_name = \"rinna-3.6b-SFT\"\n",
    "    elif \"neox-3.6b\" in name:\n",
    "        short_name = \"rinna-3.6b\"\n",
    "    else:\n",
    "        short_name = name\n",
    "    short_names[name] = short_name"
   ]
  },
  {
   "cell_type": "markdown",
   "id": "90cf6cac-8bc8-4884-82b8-cf029fd2d290",
   "metadata": {},
   "source": [
    "# Win Rates: A direct way to rank the models"
   ]
  },
  {
   "cell_type": "markdown",
   "id": "c3e70971-7a36-453a-b5b0-d40982193bd2",
   "metadata": {},
   "source": [
    "If all the models play the same opponents the same number of times, the average win-rate of the models in head-to-head matchups should be a direct measure of their overall performance. "
   ]
  },
  {
   "cell_type": "code",
   "execution_count": 8,
   "id": "d4b46afd-dee5-4dcf-909f-7d2b2d1d9727",
   "metadata": {},
   "outputs": [
    {
     "data": {
      "text/plain": [
       "model1_id\n",
       "rinna/japanese-gpt-neox-3.6b                      0.166\n",
       "cyberagent/open-calm-7b                           0.273\n",
       "rinna/japanese-gpt-neox-3.6b-instruction-sft-v2   0.299\n",
       "izumi-lab/stormy-7b-10ep                          0.328\n",
       "rinna/japanese-gpt-neox-3.6b-instruction-ppo      0.387\n",
       "rwkv-world-jpn-55                                 0.534\n",
       "super-torin-sama-alpha2                           0.571\n",
       "gpt-3.5-turbo-0301:20230614                       0.844\n",
       "gpt-4:20230713                                    0.926\n",
       "dtype: float64"
      ]
     },
     "execution_count": 8,
     "metadata": {},
     "output_type": "execute_result"
    }
   ],
   "source": [
    "# total number of times model i in first position beats model j in second position\n",
    "a_ij = df.groupby([\"model1_id\", \"model2_id\"])[\"score\"].sum().unstack(fill_value=0)\n",
    "\n",
    "# total number of times model i in first position loses model j in second position\n",
    "df_loss = df.copy()\n",
    "df_loss[\"score\"] = df_loss[\"score\"].apply(\n",
    "    lambda x: 1 if x == 0 else (0.5 if x == 0.5 else 0)\n",
    ")\n",
    "b_ij = df_loss.groupby([\"model1_id\", \"model2_id\"])[\"score\"].sum().unstack(fill_value=0)\n",
    "\n",
    "# total number of times model i plays model j, regardless of order\n",
    "all_pairs = pd.concat(\n",
    "    [\n",
    "        df[[\"model1_id\", \"model2_id\"]],\n",
    "        df[[\"model2_id\", \"model1_id\"]].rename(\n",
    "            columns={\"model2_id\": \"model1_id\", \"model1_id\": \"model2_id\"}\n",
    "        ),\n",
    "    ]\n",
    ")\n",
    "n_ij = all_pairs.groupby([\"model1_id\", \"model2_id\"]).size().unstack(fill_value=0)\n",
    "assert n_ij.sum().sum() == 2 * M\n",
    "\n",
    "# win fraction of model i against model j, regardless of order\n",
    "win_frac_ij = (a_ij + b_ij.T) / n_ij\n",
    "\n",
    "# overall average win rate\n",
    "w_i = (a_ij + b_ij.T).sum(axis=1) / ((a_ij + b_ij.T) + (a_ij + b_ij.T).T).sum(axis=1)\n",
    "\n",
    "win_rates = w_i.sort_values(ascending=True)\n",
    "win_rates"
   ]
  },
  {
   "cell_type": "code",
   "execution_count": 9,
   "id": "9a9b2cdd-9733-4ede-b6cf-8500f7def9eb",
   "metadata": {
    "tags": []
   },
   "outputs": [
    {
     "data": {
      "image/png": "[encoded data removed]",
      "text/plain": [
       "<Figure size 1000x600 with 1 Axes>"
      ]
     },
     "metadata": {},
     "output_type": "display_data"
    }
   ],
   "source": [
    "# # Get x values and error values\n",
    "x_values = win_rates.values\n",
    "# errors = np.array([[d[\"one_sigma_down\"], d[\"one_sigma_up\"]] for d in strengths]).T\n",
    "labels = [short_names[model] for model in win_rates.index]\n",
    "y_values = range(len(x_values))\n",
    "\n",
    "# Plot\n",
    "try:\n",
    "    import samplotlib\n",
    "    from samplotlib import colors\n",
    "    from samplotlib.circusboy import CircusBoy\n",
    "\n",
    "    cb = CircusBoy()\n",
    "    BGColor = \"#FFFFFF\"\n",
    "    plt.rcParams[\"axes.facecolor\"] = BGColor\n",
    "    plt.rcParams[\"figure.facecolor\"] = BGColor\n",
    "    plt.rcParams[\"savefig.facecolor\"] = BGColor\n",
    "\n",
    "    fig, ax = cb.handlers()\n",
    "    cb.set_yTickLabels(ax, yoffset=-3)\n",
    "\n",
    "    ax.scatter(x_values * 100, y_values)\n",
    "    ax.set_xlabel(r\"Overall win rate\")\n",
    "    cb.set_byline(ax, \"Sam Passaglia / YuzuAI\", pad=7)\n",
    "\n",
    "    cb.set_title(\n",
    "        ax,\n",
    "        title=\"Win rates among Japanese AI Assistants\",\n",
    "        subtitle=\"As measured against each other on the Rakuda benchmark\",\n",
    "    )\n",
    "    ax.set_xlim([20, 100])\n",
    "\n",
    "    ax.xaxis.set_major_formatter(mtick.PercentFormatter())\n",
    "\n",
    "    ax.axvline(50, color=cb.grey, ls=\"--\", lw=2)\n",
    "    # ax.set_ylim([-0.19, 5.3])\n",
    "\n",
    "    ax.set_yticks(y_values, labels)\n",
    "    # ax.set_xticks([-0.5, 0, 0.5, 1])\n",
    "\n",
    "    fig.savefig(charts_prefix + \"winrate.png\")\n",
    "    fig.savefig(charts_prefix + \"winrate.pdf\")\n",
    "    matplotlib.rcParams.update(matplotlib.rcParamsDefault)\n",
    "    plt.rcParams[\"text.usetex\"] = True\n",
    "    Image(charts_prefix + \"winrate.png\", width=800)\n",
    "except ImportError:\n",
    "    plt.figure(figsize=(10, 6))\n",
    "    plt.scatter(x_values, y_values)\n",
    "    plt.xlabel(\"Overall win rate\")\n",
    "    plt.yticks(y_values, labels)\n",
    "    plt.savefig(charts_prefix + \"winrate.png\")\n",
    "    # plt.show()"
   ]
  },
  {
   "cell_type": "markdown",
   "id": "9a59e579-8d9d-4485-970e-efcad8055ef8",
   "metadata": {},
   "source": [
    "# Bradley-Terry: A more flexible way to rank"
   ]
  },
  {
   "cell_type": "markdown",
   "id": "a6877e5c-169a-4cd3-9508-4960f4983526",
   "metadata": {},
   "source": [
    "We might not always be in the situation where all models face the same set of opponents the same number of times.\n",
    "In that case we want a more robust mathematical model for our data. We choose to use the [Bradley-Terry model](https://en.wikipedia.org/wiki/Bradley%E2%80%93Terry_model)."
   ]
  },
  {
   "cell_type": "markdown",
   "id": "56412550-5377-4586-b718-8ead417a270a",
   "metadata": {},
   "source": [
    "We model the probability that model $i$ in the first position beats model $j$ in the second position as \n",
    "\n",
    "$p_{ij} = \\dfrac{e^{\\alpha+\\beta_i - \\beta_j}}{1+e^{\\alpha+\\beta_i-\\beta_j}}$\n",
    "\n",
    "where $\\beta_i$ is the strength of model $i$ and $\\alpha$ is a home field advantage parameter that is greater than 0 if the model in the first position is favored over the model in the second position and is less than 0 if the second model is favored. Draws are counted as a half-win for each teams."
   ]
  },
  {
   "cell_type": "markdown",
   "id": "446d0403-675c-4dd9-95a2-44c0b28b355d",
   "metadata": {},
   "source": [
    "We can scale the ratings as we wish, as an aesthetic choice which has no mathematical effect. The following parameters set the ratings to correspond to the traditional ELO scores."
   ]
  },
  {
   "cell_type": "code",
   "execution_count": 10,
   "id": "5f0db21b-cda5-481a-96db-560bbbd352de",
   "metadata": {},
   "outputs": [],
   "source": [
    "SCALE = 400\n",
    "BASE = 10\n",
    "INIT_RATING = 1000"
   ]
  },
  {
   "cell_type": "markdown",
   "id": "2591e110-2617-4ddc-b6aa-3113fc5e8ab4",
   "metadata": {
    "tags": []
   },
   "source": [
    "# Maximum Likelihood Estimation"
   ]
  },
  {
   "cell_type": "markdown",
   "id": "acd26b68-2213-43fe-b28c-8a353424de40",
   "metadata": {},
   "source": [
    "To find the best-fit model strengths, we maximize the likelihood of the data given the parameters using scipy"
   ]
  },
  {
   "cell_type": "code",
   "execution_count": 11,
   "id": "3be7a633-d6fc-4b36-a100-1ac48c3e8524",
   "metadata": {},
   "outputs": [],
   "source": [
    "def compute_elo_mle(df, SCALE=1, BASE=np.e, INIT_RATING=0, fit_home_advantage=True):\n",
    "\n",
    "    models = pd.concat([df[\"model1_id\"], df[\"model2_id\"]]).unique()\n",
    "    models = pd.Series(np.arange(len(models)), index=models)\n",
    "\n",
    "    # Score vector\n",
    "    Y_m = df[\n",
    "        \"score\"\n",
    "    ].values  # 1 if i_m beat j_m in the mth game, .5 for a draw, 0 otherwise\n",
    "\n",
    "    # match vectors: who played in the mth match\n",
    "    i_m = df.apply(lambda row: models[row[\"model1_id\"]], axis=1).values\n",
    "    j_m = df.apply(lambda row: models[row[\"model2_id\"]], axis=1).values\n",
    "\n",
    "    # log likelihood of the data given the parameters\n",
    "    # see, e.g., https://web.stanford.edu/class/archive/stats/stats200/stats200.1172/Lecture24.pdf\n",
    "    def l(alpha, betas, Y_m, i_m, j_m):\n",
    "        alpha_plus_betas_diff = alpha + betas[i_m] - betas[j_m]\n",
    "        return np.sum(\n",
    "            Y_m * alpha_plus_betas_diff - np.log1p(np.exp(alpha_plus_betas_diff))\n",
    "        )\n",
    "\n",
    "    # Initial guess for the parameters\n",
    "    x0 = np.zeros(len(models) + 1)\n",
    "\n",
    "    # Define the system of equations\n",
    "    def F(x):\n",
    "        if not fit_home_advantage:\n",
    "            x[0] = 0\n",
    "        x[1] = -np.sum(x[2:])  # enforces sum of scores is ~0\n",
    "        return -l(x[0], x[1:], Y_m, i_m, j_m)\n",
    "\n",
    "    # Minimize the negative likelihood\n",
    "    max_likelihood = minimize(F, x0, method=\"L-BFGS-B\")\n",
    "\n",
    "    # Impose the sum of scores is ~0\n",
    "    max_likelihood.x[1] = -np.sum(max_likelihood.x[2:])\n",
    "\n",
    "    # Scale the scores\n",
    "    scaled_MLE_scores = (\n",
    "        SCALE\n",
    "        / math.log(BASE)\n",
    "        * pd.Series(max_likelihood.x[1:], index=models.index).sort_values(\n",
    "            ascending=False\n",
    "        )\n",
    "        + INIT_RATING\n",
    "    )\n",
    "    scaled_MLE_advantage = SCALE / math.log(BASE) * max_likelihood.x[0]\n",
    "\n",
    "    if not fit_home_advantage:\n",
    "        return scaled_MLE_scores\n",
    "    else:\n",
    "        return (\n",
    "            scaled_MLE_scores,\n",
    "            scaled_MLE_advantage,\n",
    "        )"
   ]
  },
  {
   "cell_type": "code",
   "execution_count": 12,
   "id": "cf8313a6-d16c-40d1-b704-7a0efe4e24c5",
   "metadata": {},
   "outputs": [],
   "source": [
    "scaled_MLE_scores, scaled_MLE_advantage = compute_elo_mle(\n",
    "    df, SCALE=SCALE, BASE=BASE, INIT_RATING=INIT_RATING\n",
    ")"
   ]
  },
  {
   "cell_type": "code",
   "execution_count": 13,
   "id": "28997fda-c308-40fb-80e7-4c163c81ba28",
   "metadata": {},
   "outputs": [
    {
     "name": "stdout",
     "output_type": "stream",
     "text": [
      "gpt-4:20230713                                    1511.238\n",
      "gpt-3.5-turbo-0301:20230614                       1378.632\n",
      "rwkv-world-jpn-55                                 1075.449\n",
      "super-torin-sama-alpha2                           1010.807\n",
      "rinna/japanese-gpt-neox-3.6b-instruction-ppo       862.584\n",
      "izumi-lab/stormy-7b-10ep                           848.218\n",
      "rinna/japanese-gpt-neox-3.6b-instruction-sft-v2    814.530\n",
      "cyberagent/open-calm-7b                            794.776\n",
      "rinna/japanese-gpt-neox-3.6b                       703.766\n",
      "dtype: float64\n"
     ]
    }
   ],
   "source": [
    "print(scaled_MLE_scores)"
   ]
  },
  {
   "cell_type": "markdown",
   "id": "af3ed25b-54ed-454b-b3f5-05ae9fb50e44",
   "metadata": {},
   "source": [
    "# Check that we have enough matches"
   ]
  },
  {
   "cell_type": "code",
   "execution_count": 14,
   "id": "fe86d61e-afc3-4cf1-811e-25c4d4d71786",
   "metadata": {},
   "outputs": [],
   "source": [
    "nstep = 10\n",
    "steps = np.arange(100, len(df) + nstep, nstep)"
   ]
  },
  {
   "cell_type": "code",
   "execution_count": 15,
   "id": "c33da29e-03d4-4520-9daf-63121cee2bb5",
   "metadata": {},
   "outputs": [],
   "source": [
    "for step in steps:\n",
    "    current_scores, advantage = compute_elo_mle(\n",
    "        df.iloc[:step], SCALE=SCALE, BASE=BASE, INIT_RATING=INIT_RATING\n",
    "    )\n",
    "    current_scores = current_scores.rename(step)\n",
    "    if step == steps[0]:\n",
    "        score_history = current_scores\n",
    "    else:\n",
    "        score_history = pd.concat([score_history, current_scores], axis=1)"
   ]
  },
  {
   "cell_type": "code",
   "execution_count": 16,
   "id": "2ebcaed2-aa7c-4270-a65f-11f6e98a95db",
   "metadata": {},
   "outputs": [
    {
     "data": {
      "image/png": "[encoded data removed]",
      "text/plain": [
       "<Figure size 640x480 with 1 Axes>"
      ]
     },
     "metadata": {},
     "output_type": "display_data"
    }
   ],
   "source": [
    "# Plotting the elo_history\n",
    "\n",
    "fig, ax = plt.subplots()\n",
    "\n",
    "for model in score_history.index:\n",
    "    ax.plot(steps, score_history.loc[model], label=model)\n",
    "\n",
    "ax.set_xlabel(\"Total matches\")\n",
    "ax.set_ylabel(\"Strength\")\n",
    "ax.set_title(\"Maximum Likelihood Strength as a function of total matches\")\n",
    "ax.legend(loc=\"upper left\")\n",
    "\n",
    "plt.show()"
   ]
  },
  {
   "cell_type": "markdown",
   "id": "a57d8fcf-37f6-4bba-af82-014803ec6f17",
   "metadata": {},
   "source": [
    "# Bayesian confidence regions using MCMC"
   ]
  },
  {
   "cell_type": "markdown",
   "id": "1d676e94-6144-4deb-884f-73003cedcde6",
   "metadata": {},
   "source": [
    "See the [emcee tutorial](https://emcee.readthedocs.io/en/stable/tutorials/line/) for a crash-course of Bayesian fitting, or [this nice paper](https://arxiv.org/pdf/1008.4686.pdf) for a more complete but still pedagogical look.\n"
   ]
  },
  {
   "cell_type": "code",
   "execution_count": 17,
   "id": "acf194c8-67b2-43f8-b7d3-ba2f69d435d4",
   "metadata": {},
   "outputs": [],
   "source": [
    "# Parameter space dimension\n",
    "ndim = N + 1\n",
    "\n",
    "# Score vector\n",
    "Y_m = df[\n",
    "    \"score\"\n",
    "].values  # 1 if i_m beat j_m in the mth game, .5 for a draw, 0 otherwise\n",
    "\n",
    "# match vectors: who played in the mth match\n",
    "i_m = df.apply(lambda row: models[row[\"model1_id\"]], axis=1).values\n",
    "j_m = df.apply(lambda row: models[row[\"model2_id\"]], axis=1).values\n",
    "\n",
    "# likelihood\n",
    "def l(alpha, betas, Y_m, i_m, j_m):\n",
    "    alpha_plus_betas_diff = alpha + betas[i_m] - betas[j_m]\n",
    "    return np.sum(Y_m * alpha_plus_betas_diff - np.log1p(np.exp(alpha_plus_betas_diff)))\n",
    "\n",
    "\n",
    "# Prior: What we knew before running the experiment\n",
    "# We choose flat priors that don't constrain the parameters much\n",
    "def log_prior(x):\n",
    "    if -1 < x[0] < 1 and all([-4 < beta < 4 for beta in x[1:]]):\n",
    "        return 0.0\n",
    "    return -np.inf\n",
    "\n",
    "\n",
    "# Log Probability = Log_Prior + Log Likelihood\n",
    "def log_probability(x):\n",
    "    x[1] = -np.sum(x[2:])  # enforces sum of scores is 0\n",
    "    lp = log_prior(x)\n",
    "    if not np.isfinite(lp):\n",
    "        return -np.inf\n",
    "    return lp + l(x[0], x[1:], Y_m, i_m, j_m)"
   ]
  },
  {
   "cell_type": "code",
   "execution_count": 18,
   "id": "575b744c-dda4-4123-b58f-a50d0103b48c",
   "metadata": {},
   "outputs": [
    {
     "name": "stderr",
     "output_type": "stream",
     "text": [
      "100%|██████████| 8000/8000 [01:49<00:00, 72.93it/s] \n"
     ]
    }
   ],
   "source": [
    "# Parameters of the MCMC\n",
    "# This will launch an MCMC that takes about ~ 4 minute to run on a M1 mac cpu\n",
    "# If too slow just reduce nsamples or nwalkers, default numbers are overkill for computing confidence intervals\n",
    "from multiprocessing import Pool\n",
    "\n",
    "# Maximum number of samples per chain\n",
    "nsamples = 8000  # 20000\n",
    "\n",
    "# Number of independent chains\n",
    "nwalkers = 40\n",
    "\n",
    "# Initialize the walkers randomly around the MLE point\n",
    "MLE_scores, MLE_advantage = compute_elo_mle(df)\n",
    "p0 = np.random.normal(\n",
    "    np.concatenate([[MLE_advantage], MLE_scores[models.index].values]),\n",
    "    0.01,\n",
    "    (nwalkers, ndim),\n",
    ")\n",
    "\n",
    "# Set up the location to save the mcmc\n",
    "# Don't forget to clear it in case the file already exists\n",
    "filename = \"mcmc.h5\"\n",
    "backend = emcee.backends.HDFBackend(filename)\n",
    "backend.reset(nwalkers, ndim)\n",
    "\n",
    "# We'll track how the average autocorrelation time estimate changes\n",
    "index = 0\n",
    "autocorr = np.empty(nsamples)\n",
    "\n",
    "# This will be useful to testing convergence\n",
    "old_tau = np.inf\n",
    "\n",
    "with Pool() as pool:\n",
    "    sampler = emcee.EnsembleSampler(\n",
    "        nwalkers, ndim, log_probability, backend=backend, pool=pool\n",
    "    )\n",
    "    # We sample for up to nsamples steps\n",
    "    for sample in sampler.sample(p0, iterations=nsamples, progress=True):\n",
    "        # Only check convergence every 1000 steps\n",
    "        if sampler.iteration % 1000:\n",
    "            continue\n",
    "\n",
    "        # Compute the autocorrelation time so far\n",
    "        # Using tol=0 means that we'll always get an estimate even\n",
    "        # if it isn't trustworthy\n",
    "        tau = sampler.get_autocorr_time(tol=0)\n",
    "        autocorr[index] = np.mean(tau)\n",
    "        index += 1\n",
    "\n",
    "        # We'll consider things converged if the chain is longer than 50 times the autocorrelation time\n",
    "        # and this estimate has changed by less than 5 percent since the last check.\n",
    "        converged = np.all(tau * 50 < sampler.iteration)\n",
    "        converged &= np.all(np.abs(old_tau - tau) / tau < 0.05)\n",
    "        if converged:\n",
    "            break\n",
    "        old_tau = tau\n",
    "\n",
    "# To reload chains follow these instructions: https://emcee.readthedocs.io/en/stable/tutorials/monitor/"
   ]
  },
  {
   "cell_type": "code",
   "execution_count": 60,
   "id": "0f9d4a2e-ee44-4042-b1fc-2a9c04d4942f",
   "metadata": {},
   "outputs": [
    {
     "name": "stdout",
     "output_type": "stream",
     "text": [
      "Mean acceptance fraction: 0.42\n",
      "Mean autocorrelation time: 98 steps\n"
     ]
    }
   ],
   "source": [
    "# Should be 0.3~0.5\n",
    "print(\"Mean acceptance fraction: {0:.2f}\".format(np.mean(sampler.acceptance_fraction)))\n",
    "\n",
    "# Useful for chain burning and thinning\n",
    "print(\n",
    "    \"Mean autocorrelation time: {0:.0f} steps\".format(\n",
    "        np.mean(sampler.get_autocorr_time())\n",
    "    )\n",
    ")"
   ]
  },
  {
   "cell_type": "code",
   "execution_count": 61,
   "id": "85bc589a-a697-4251-bbe6-9eb5733a16e1",
   "metadata": {},
   "outputs": [
    {
     "name": "stdout",
     "output_type": "stream",
     "text": [
      "(280000, 10)\n"
     ]
    }
   ],
   "source": [
    "# Burn the few * autocorrelation time steps per chain to erase initial conditions\n",
    "flat_samples = sampler.get_chain(discard=1000, flat=True)\n",
    "flat_samples[:, 1] = -np.sum(\n",
    "    flat_samples[:, 2:], axis=1\n",
    ")  # impose the sum of strengths = 0 constraint that was imposed in the likelihood\n",
    "print(flat_samples.shape)"
   ]
  },
  {
   "cell_type": "code",
   "execution_count": 62,
   "id": "a4bbfc6f-5465-4794-a769-681d418d761b",
   "metadata": {},
   "outputs": [],
   "source": [
    "# Convert chain to desired scaling\n",
    "\n",
    "scaled_samples = np.copy(flat_samples)\n",
    "\n",
    "scaled_samples[:, 0] = scaled_samples[:, 0] * SCALE / math.log(BASE)\n",
    "scaled_samples[:, 1:] = scaled_samples[:, 1:] * SCALE / math.log(BASE) + INIT_RATING"
   ]
  },
  {
   "cell_type": "code",
   "execution_count": 63,
   "id": "9cd5ebb7-6f04-4791-b5bb-9b713c141d53",
   "metadata": {},
   "outputs": [
    {
     "name": "stdout",
     "output_type": "stream",
     "text": [
      "{'median': -27.34486076872259, 'one_sigma_up': 18.187542824797134, 'one_sigma_down': 18.8266122773897}\n"
     ]
    },
    {
     "data": {
      "text/html": [
       "<div>\n",
       "<style scoped>\n",
       "    .dataframe tbody tr th:only-of-type {\n",
       "        vertical-align: middle;\n",
       "    }\n",
       "\n",
       "    .dataframe tbody tr th {\n",
       "        vertical-align: top;\n",
       "    }\n",
       "\n",
       "    .dataframe thead th {\n",
       "        text-align: right;\n",
       "    }\n",
       "</style>\n",
       "<table border=\"1\" class=\"dataframe\">\n",
       "  <thead>\n",
       "    <tr style=\"text-align: right;\">\n",
       "      <th></th>\n",
       "      <th>model_id</th>\n",
       "      <th>median</th>\n",
       "      <th>one_sigma_up</th>\n",
       "      <th>one_sigma_down</th>\n",
       "    </tr>\n",
       "  </thead>\n",
       "  <tbody>\n",
       "    <tr>\n",
       "      <th>0</th>\n",
       "      <td>gpt-4:20230713</td>\n",
       "      <td>1519.967</td>\n",
       "      <td>54.233</td>\n",
       "      <td>49.413</td>\n",
       "    </tr>\n",
       "    <tr>\n",
       "      <th>1</th>\n",
       "      <td>gpt-3.5-turbo-0301:20230614</td>\n",
       "      <td>1385.190</td>\n",
       "      <td>44.789</td>\n",
       "      <td>42.450</td>\n",
       "    </tr>\n",
       "    <tr>\n",
       "      <th>2</th>\n",
       "      <td>rwkv-world-jpn-55</td>\n",
       "      <td>1075.588</td>\n",
       "      <td>33.451</td>\n",
       "      <td>33.016</td>\n",
       "    </tr>\n",
       "    <tr>\n",
       "      <th>3</th>\n",
       "      <td>super-torin-sama-alpha2</td>\n",
       "      <td>1011.454</td>\n",
       "      <td>31.339</td>\n",
       "      <td>31.397</td>\n",
       "    </tr>\n",
       "    <tr>\n",
       "      <th>4</th>\n",
       "      <td>rinna/japanese-gpt-neox-3.6b-instruction-ppo</td>\n",
       "      <td>860.117</td>\n",
       "      <td>32.796</td>\n",
       "      <td>33.689</td>\n",
       "    </tr>\n",
       "    <tr>\n",
       "      <th>5</th>\n",
       "      <td>izumi-lab/stormy-7b-10ep</td>\n",
       "      <td>845.144</td>\n",
       "      <td>33.186</td>\n",
       "      <td>32.168</td>\n",
       "    </tr>\n",
       "    <tr>\n",
       "      <th>6</th>\n",
       "      <td>rinna/japanese-gpt-neox-3.6b-instruction-sft-v2</td>\n",
       "      <td>810.680</td>\n",
       "      <td>33.677</td>\n",
       "      <td>33.916</td>\n",
       "    </tr>\n",
       "    <tr>\n",
       "      <th>7</th>\n",
       "      <td>cyberagent/open-calm-7b</td>\n",
       "      <td>790.947</td>\n",
       "      <td>33.163</td>\n",
       "      <td>32.855</td>\n",
       "    </tr>\n",
       "    <tr>\n",
       "      <th>8</th>\n",
       "      <td>rinna/japanese-gpt-neox-3.6b</td>\n",
       "      <td>697.818</td>\n",
       "      <td>36.911</td>\n",
       "      <td>36.704</td>\n",
       "    </tr>\n",
       "  </tbody>\n",
       "</table>\n",
       "</div>"
      ],
      "text/plain": [
       "                                          model_id   median  one_sigma_up  \\\n",
       "0                                   gpt-4:20230713 1519.967        54.233   \n",
       "1                      gpt-3.5-turbo-0301:20230614 1385.190        44.789   \n",
       "2                                rwkv-world-jpn-55 1075.588        33.451   \n",
       "3                          super-torin-sama-alpha2 1011.454        31.339   \n",
       "4     rinna/japanese-gpt-neox-3.6b-instruction-ppo  860.117        32.796   \n",
       "5                         izumi-lab/stormy-7b-10ep  845.144        33.186   \n",
       "6  rinna/japanese-gpt-neox-3.6b-instruction-sft-v2  810.680        33.677   \n",
       "7                          cyberagent/open-calm-7b  790.947        33.163   \n",
       "8                     rinna/japanese-gpt-neox-3.6b  697.818        36.911   \n",
       "\n",
       "   one_sigma_down  \n",
       "0          49.413  \n",
       "1          42.450  \n",
       "2          33.016  \n",
       "3          31.397  \n",
       "4          33.689  \n",
       "5          32.168  \n",
       "6          33.916  \n",
       "7          32.855  \n",
       "8          36.704  "
      ]
     },
     "execution_count": 63,
     "metadata": {},
     "output_type": "execute_result"
    }
   ],
   "source": [
    "# Compute the confidence interval for all the parameters\n",
    "error_interval = [16, 50, 84]\n",
    "\n",
    "mcmc = np.percentile(scaled_samples[:, 0], error_interval)\n",
    "q = np.diff(mcmc)\n",
    "advantage_quantiles = {\n",
    "    \"median\": mcmc[1],\n",
    "    \"one_sigma_up\": q[1],\n",
    "    \"one_sigma_down\": q[0],\n",
    "}\n",
    "print(advantage_quantiles)\n",
    "\n",
    "strengths = pd.DataFrame(\n",
    "    columns=[\"model_id\", \"median\", \"one_sigma_up\", \"one_sigma_down\"]\n",
    ")\n",
    "\n",
    "for i in range(ndim - 1):\n",
    "    mcmc = np.percentile(scaled_samples[:, i + 1], error_interval)\n",
    "    q = np.diff(mcmc)\n",
    "\n",
    "    strengths = pd.concat(\n",
    "        [\n",
    "            strengths,\n",
    "            pd.DataFrame(\n",
    "                [\n",
    "                    {\n",
    "                        \"model_id\": list(models.index)[i],\n",
    "                        \"median\": mcmc[1],\n",
    "                        \"one_sigma_up\": q[1],\n",
    "                        \"one_sigma_down\": q[0],\n",
    "                    }\n",
    "                ]\n",
    "            ),\n",
    "        ],\n",
    "        ignore_index=True,\n",
    "    )\n",
    "\n",
    "strengths = strengths.sort_values(\"median\", ascending=False).reset_index(drop=True)\n",
    "strengths"
   ]
  },
  {
   "cell_type": "code",
   "execution_count": 64,
   "id": "0dcbb031-dcee-41d0-88b6-c2645314d4b7",
   "metadata": {},
   "outputs": [],
   "source": [
    "# Parameter labels for plots\n",
    "# parameter_labels = [rf\"\\alpha\"] + [\n",
    "#     rf\"\\beta_{{\\textrm{{{label}}}}}\" for label in short_names.values()\n",
    "# ]\n",
    "# parameter_labels_with_dollar = [\n",
    "#     rf\"${parameter_label}$\" for parameter_label in parameter_labels\n",
    "# ]"
   ]
  },
  {
   "cell_type": "code",
   "execution_count": 65,
   "id": "3cc321a4-1947-402f-a549-d4db93e852b7",
   "metadata": {},
   "outputs": [],
   "source": [
    "# Plot all the strengths\n",
    "\n",
    "x_values = strengths[\"median\"]\n",
    "y_values = strengths[\"median\"].argsort().values\n",
    "errors = [strengths[\"one_sigma_up\"], strengths[\"one_sigma_down\"]]\n",
    "labels = strengths[\"model_id\"].apply(lambda x: short_names[x])\n",
    "\n",
    "try:\n",
    "    from samplotlib import colors\n",
    "    from samplotlib.circusboy import CircusBoy\n",
    "\n",
    "    cb = CircusBoy()\n",
    "    BGColor = \"#FFFFFF\"\n",
    "    plt.rcParams[\"axes.facecolor\"] = BGColor\n",
    "    plt.rcParams[\"figure.facecolor\"] = BGColor\n",
    "    plt.rcParams[\"savefig.facecolor\"] = BGColor\n",
    "\n",
    "    fig, ax = cb.handlers()\n",
    "    cb.set_yTickLabels(ax, yoffset=-3)\n",
    "    ax.errorbar(x_values, y_values, xerr=errors, fmt=\"o\")\n",
    "    ax.set_xlabel(r\"Model Strength $\\beta$\")\n",
    "    cb.set_byline(ax, \"Sam Passaglia / YuzuAI\", pad=7)\n",
    "\n",
    "    cb.set_title(\n",
    "        ax,\n",
    "        title=\"Strengths of Japanese AI Assistants\",\n",
    "        subtitle=\"Fit of the Bradley-Terry model to Rakuda data\",\n",
    "    )\n",
    "    # ax.set_xlim([-0.6, 1.0])\n",
    "    ax.set_ylim([-0.19, 5.3])\n",
    "    ax.set_yticks(y_values, labels)\n",
    "    # ax.set_xticks([-0.5, 0, 0.5, 1])\n",
    "\n",
    "    fig.savefig(charts_prefix + \"ranking.png\")\n",
    "    fig.savefig(charts_prefix + \"ranking.pdf\")\n",
    "    matplotlib.rcParams.update(matplotlib.rcParamsDefault)\n",
    "    plt.rcParams[\"text.usetex\"] = True\n",
    "\n",
    "except ImportError:\n",
    "    plt.figure(figsize=(10, 6))\n",
    "    plt.errorbar(\n",
    "        x_values,\n",
    "        y_values,\n",
    "        xerr=errors,\n",
    "        fmt=\"o\",\n",
    "    )\n",
    "    plt.xlabel(\"Model Strength\")\n",
    "    plt.yticks(y_values, labels)\n",
    "    plt.savefig(charts_prefix + \"ranking.png\")\n",
    "    # plt.show()\n",
    "\n",
    "# Image(charts_prefix + \"ranking.png\", width=800)"
   ]
  },
  {
   "cell_type": "code",
   "execution_count": 66,
   "id": "8b72e71f-314f-4aa9-b91c-b4f382ac7697",
   "metadata": {},
   "outputs": [
    {
     "data": {
      "text/plain": [
       "<matplotlib.legend.Legend at 0x7f76f05d13f0>"
      ]
     },
     "execution_count": 66,
     "metadata": {},
     "output_type": "execute_result"
    }
   ],
   "source": [
    "# Plot a parameter distribution\n",
    "# Note we don't expect maximum likelihood point to necessarily agree with maximum of the marginalized 1D posterior distribution\n",
    "# See page 16 of https://arxiv.org/pdf/1008.4686.pdf\n",
    "\n",
    "model = \"cyberagent/open-calm-7b\"\n",
    "\n",
    "scaled_MLE_scores, scaled_MLE_advantage = compute_elo_mle(\n",
    "    df, SCALE=SCALE, BASE=BASE, INIT_RATING=INIT_RATING\n",
    ")\n",
    "plt.close(\"all\")\n",
    "plt.hist(\n",
    "    scaled_samples[:, models[model] + 1],\n",
    "    100,\n",
    "    color=\"k\",\n",
    "    histtype=\"step\",\n",
    "    label=\"Posterior Samples\",\n",
    ")\n",
    "plt.axvline(scaled_MLE_scores[model], color=\"k\", label=\"MLE\")\n",
    "\n",
    "# plt.xlabel(parameter_labels_with_dollar[parameter_index])\n",
    "# plt.ylabel(rf\"$p({parameter_labels[parameter_index]})$\")\n",
    "plt.gca().set_yticks([])\n",
    "plt.savefig(charts_prefix + \"parameter.png\")\n",
    "plt.legend()\n",
    "\n",
    "# If using a non-interactive matplotlib back-end\n",
    "# Image(charts_prefix + \"parameter.png\", width=800)"
   ]
  },
  {
   "cell_type": "code",
   "execution_count": 67,
   "id": "1cd7f714-abb4-443c-bfef-33ddb71619c0",
   "metadata": {},
   "outputs": [
    {
     "name": "stdout",
     "output_type": "stream",
     "text": [
      "rwkv-world is stronger than super-torin with 91.37% confidence\n"
     ]
    }
   ],
   "source": [
    "# Compute relative strength probabilities\n",
    "modelA = \"rwkv-world-jpn-55\"\n",
    "modelB = \"super-torin-sama-alpha2\"\n",
    "\n",
    "diffs = scaled_samples[:, models[modelA] + 1] - scaled_samples[:, models[modelB] + 1]\n",
    "\n",
    "\n",
    "A_stronger_rate = np.sum(\n",
    "    scaled_samples[:, models[modelA] + 1] > scaled_samples[:, models[modelB] + 1]\n",
    ") / len(scaled_samples)\n",
    "print(\n",
    "    f\"{short_names[modelA]} is stronger than {short_names[modelB]} with {A_stronger_rate:.2%} confidence\"\n",
    ")\n",
    "\n",
    "\n",
    "# Plot\n",
    "try:\n",
    "    from samplotlib import colors\n",
    "    from samplotlib.circusboy import CircusBoy\n",
    "\n",
    "    cb = CircusBoy()\n",
    "    BGColor = \"#FFFFFF\"\n",
    "    plt.rcParams[\"axes.facecolor\"] = BGColor\n",
    "    plt.rcParams[\"figure.facecolor\"] = BGColor\n",
    "    plt.rcParams[\"savefig.facecolor\"] = BGColor\n",
    "\n",
    "    fig, ax = cb.handlers()\n",
    "\n",
    "    hist = ax.hist(diffs, 100, histtype=\"step\")\n",
    "    ax.set_xlabel(\n",
    "        rf\"${parameter_labels[model_to_int[modelA] + 1]} - {parameter_labels[model_to_int[modelB] + 1]}$\",\n",
    "        size=18,\n",
    "    )\n",
    "    arrow_height = 1.0\n",
    "    ax.annotate(\n",
    "        \"\",\n",
    "        xytext=(0, arrow_height),\n",
    "        xy=(0.2, arrow_height),\n",
    "        xycoords=(\"data\", \"axes fraction\"),\n",
    "        arrowprops=dict(\n",
    "            facecolor=hist[2][0]._facecolor[:3],\n",
    "            edgecolor=hist[2][0]._facecolor[:3],\n",
    "            width=0.15,\n",
    "            headlength=5,\n",
    "            headwidth=5,\n",
    "            shrink=0.1,\n",
    "        ),\n",
    "    )\n",
    "\n",
    "    ax.annotate(\n",
    "        f\"{A_stronger_rate:.1%} of samples have \\n {shortnameA} > {shortnameB}\",\n",
    "        xy=(0.0, arrow_height),\n",
    "        xycoords=(\"data\", \"axes fraction\"),\n",
    "        xytext=(10, 10),\n",
    "        textcoords=\"offset points\",\n",
    "    )\n",
    "    plt.gca().set_yticks([])\n",
    "    cb.set_byline(ax, \"Sam Passaglia / YuzuAI\", pad=15)\n",
    "    ax.axvline(0, color=cb.grey, lw=1)\n",
    "    cb.set_title(\n",
    "        ax,\n",
    "        title=f\"Relative strength of {shortnameA} and {shortnameB}\",\n",
    "        subtitle=f\"Distribution of samples from the posterior distribution\",\n",
    "        titlesize=16,\n",
    "        subtitlesize=14,\n",
    "        pad=40,\n",
    "    )\n",
    "\n",
    "    fig.savefig(charts_prefix + \"diff.png\")\n",
    "    fig.savefig(charts_prefix + \"diff.pdf\")\n",
    "    matplotlib.rcParams.update(matplotlib.rcParamsDefault)\n",
    "    plt.rcParams[\"text.usetex\"] = True\n",
    "\n",
    "    Image(charts_prefix + \"diff.png\", width=800)\n",
    "\n",
    "except ImportError:\n",
    "\n",
    "    plt.close(\"all\")\n",
    "    plt.figure(figsize=(10, 6))\n",
    "    plt.hist(\n",
    "        diffs,\n",
    "        100,\n",
    "        color=\"k\",\n",
    "        histtype=\"step\",\n",
    "    )\n",
    "    plt.axvline(0, ls=\"--\", color=\"k\")\n",
    "    plt.xlabel(f\"{modelA} elo - {modelB} elo\")\n",
    "\n",
    "    plt.gca().set_yticks([])\n",
    "    plt.savefig(charts_prefix + \"diff.png\")\n",
    "    # plt.show()"
   ]
  },
  {
   "cell_type": "code",
   "execution_count": 68,
   "id": "485a86ab-4d15-42fa-a82e-fb917f4392ff",
   "metadata": {},
   "outputs": [
    {
     "name": "stdout",
     "output_type": "stream",
     "text": [
      "gpt-4 is stronger than gpt-3.5 with 99.18% confidence\n",
      "gpt-3.5 is stronger than rwkv-world with 100.00% confidence\n",
      "rwkv-world is stronger than super-torin with 91.37% confidence\n",
      "super-torin is stronger than rinna-3.6b-PPO with 99.97% confidence\n",
      "rinna-3.6b-PPO is stronger than stormy-7b with 61.89% confidence\n",
      "stormy-7b is stronger than rinna-3.6b-SFT with 77.53% confidence\n",
      "rinna-3.6b-SFT is stronger than open-calm-7b with 65.83% confidence\n",
      "open-calm-7b is stronger than rinna-3.6b with 97.32% confidence\n"
     ]
    }
   ],
   "source": [
    "# Compute this for all models\n",
    "strengths[\"stronger_than_next_confidence\"] = -1\n",
    "\n",
    "for i in range(len(strengths) - 1):\n",
    "\n",
    "    modelA = strengths.iloc[i][\"model_id\"]\n",
    "    modelB = strengths.iloc[i + 1][\"model_id\"]\n",
    "\n",
    "    A_stronger_rate = np.sum(\n",
    "        scaled_samples[:, models[modelA] + 1] > scaled_samples[:, models[modelB] + 1]\n",
    "    ) / len(flat_samples)\n",
    "    print(\n",
    "        f\"{short_names[modelA]} is stronger than {short_names[modelB]} with {A_stronger_rate:.2%} confidence\"\n",
    "    )\n",
    "    strengths.loc[\n",
    "        strengths[\"model_id\"] == modelA, \"stronger_than_next_confidence\"\n",
    "    ] = A_stronger_rate"
   ]
  },
  {
   "cell_type": "code",
   "execution_count": 70,
   "id": "621db3b5-0e86-4168-b811-ec994e465390",
   "metadata": {},
   "outputs": [],
   "source": [
    "# Also add win rates, for reference\n",
    "strengths[\"win_rate\"] = strengths.apply(lambda row: win_rates[row[\"model_id\"]], axis=1)"
   ]
  },
  {
   "cell_type": "code",
   "execution_count": 71,
   "id": "d5a73ca7-2371-4f86-9fce-528e4288db1a",
   "metadata": {},
   "outputs": [
    {
     "name": "stdout",
     "output_type": "stream",
     "text": [
      "Removed no burn in\n"
     ]
    },
    {
     "data": {
      "image/png": "[encoded data removed]",
      "text/plain": [
       "<IPython.core.display.Image object>"
      ]
     },
     "execution_count": 71,
     "metadata": {
      "image/png": {
       "width": 1200
      }
     },
     "output_type": "execute_result"
    }
   ],
   "source": [
    "# Finally we can make a triangle plot just to show off\n",
    "import getdist\n",
    "from getdist import MCSamples, plots\n",
    "\n",
    "samples = MCSamples(\n",
    "    samples=scaled_samples[::200],\n",
    "    names=[\"alpha\"] + [short_names[model] for model in list(models.index)],\n",
    ")  # names = names, labels = labels)\n",
    "\n",
    "# Triangle plot\n",
    "g = plots.get_subplot_plotter()\n",
    "g.triangle_plot([samples], [\"alpha\", \"gpt-4\", \"rwkv-world\"], filled=True)\n",
    "g.export(charts_prefix + \"corner_getdist.png\")\n",
    "Image(charts_prefix + \"corner_getdist.png\", width=1200)"
   ]
  },
  {
   "cell_type": "markdown",
   "id": "9df0aa18-0184-46c9-abeb-4b2353a24737",
   "metadata": {},
   "source": [
    "# Output standings and make table"
   ]
  },
  {
   "cell_type": "code",
   "execution_count": 76,
   "id": "9f7f9dd8-f722-4144-8ac7-12eed7dabdc3",
   "metadata": {},
   "outputs": [],
   "source": [
    "strengths[\"short_name\"] = strengths[\"model_id\"].apply(lambda x: short_names[x])"
   ]
  },
  {
   "cell_type": "code",
   "execution_count": 84,
   "id": "028c164a-479f-493a-9ddb-c414a207c39c",
   "metadata": {},
   "outputs": [],
   "source": [
    "output = {\n",
    "    \"date\": datetime.now().isoformat(),\n",
    "    \"model_metadata\": tournament[\"model_metadata\"],\n",
    "    \"metadata\": tournament[\"metadata\"],\n",
    "    \"ranking\": strengths.to_dict(orient=\"records\"),\n",
    "}"
   ]
  },
  {
   "cell_type": "code",
   "execution_count": 86,
   "id": "b24cc96e-734a-4aa7-b94d-c41b5c2928c5",
   "metadata": {},
   "outputs": [],
   "source": [
    "output_path = f\"./rankings/{tournament_file.split('/')[-1].split('.')[0]}.json\""
   ]
  },
  {
   "cell_type": "code",
   "execution_count": 87,
   "id": "69114fb1-032e-4255-99a0-aee2f786c47c",
   "metadata": {},
   "outputs": [],
   "source": [
    "with open(output_path, \"w\", encoding=\"utf-8\") as f:\n",
    "    json.dump(output, f, ensure_ascii=False, indent=4)"
   ]
  },
  {
   "cell_type": "code",
   "execution_count": 88,
   "id": "fd02dd8a-2cc9-4fd7-8bad-382bec18a01f",
   "metadata": {},
   "outputs": [],
   "source": [
    "from registry import StandingsRegistry\n",
    "\n",
    "registry = StandingsRegistry(\"./registry/registry.jsonl\")\n",
    "registry.register(output_path)"
   ]
  },
  {
   "cell_type": "code",
   "execution_count": 93,
   "id": "eefbf4f6-81e8-49c2-8947-bec0a4111a0a",
   "metadata": {},
   "outputs": [],
   "source": [
    "import json\n",
    "import os\n",
    "from datetime import datetime\n",
    "\n",
    "\n",
    "def model_hyperlink(link, model_name):\n",
    "    return f'<a target=\"_blank\" href=\"{link}\" style=\"color:#1e50a2, textDecoration: underline,textDecorationStyle: dotted\">{model_name}</a>'\n",
    "\n",
    "\n",
    "def make_clickable_model(model_name):\n",
    "    link = f\"https://huggingface.co/{model_name}\"\n",
    "\n",
    "    # Can hardcode urls and names here\n",
    "    if \"gpt-3.5-turbo\" in model_name:\n",
    "        link = \"https://openai.com/\"\n",
    "        model_name = \"GPT-3.5\"\n",
    "    elif \"gpt-4\" in model_name:\n",
    "        link = \"https://openai.com/\"\n",
    "        model_name = \"GPT-4\"\n",
    "        \n",
    "    return model_hyperlink(link, model_name)\n",
    "\n",
    "\n",
    "rankings = sorted(output[\"ranking\"], key=lambda x: x[\"median\"], reverse=True)\n",
    "table = \"| Rank | Model | Strength | Win Rate | Stronger than the next model at confidence level  | \\n| :--- | :---: | :---: | :---: | :---: |\\n\"\n",
    "for i, rank in enumerate(rankings):\n",
    "    # assert(round(rank['one_sigma_up'],2) == round(rank['one_sigma_down'],2))\n",
    "    table += f\"| {i+1} | {make_clickable_model(rank['model_id'])} | {rank['median']:.3f} ± {rank['one_sigma_up']:.2f}  | {rank['win_rate']:.0%} | { str(round(rank['stronger_than_next_confidence']*100,1))+'%' if rank['stronger_than_next_confidence']!=0 else 'N/A'}\\n\""
   ]
  },
  {
   "cell_type": "code",
   "execution_count": 94,
   "id": "a19cf981-21b6-4cc1-8fba-91bb80697b23",
   "metadata": {},
   "outputs": [
    {
     "name": "stdout",
     "output_type": "stream",
     "text": [
      "| Rank | Model | Strength | Win Rate | Stronger than the next model at confidence level  | \n",
      "| :--- | :---: | :---: | :---: | :---: |\n",
      "| 1 | <a target=\"_blank\" href=\"https://openai.com/\" style=\"color:#1e50a2, textDecoration: underline,textDecorationStyle: dotted\">GPT-4</a> | 1519.967 ± 54.23  | 93% | 99.2%\n",
      "| 2 | <a target=\"_blank\" href=\"https://openai.com/\" style=\"color:#1e50a2, textDecoration: underline,textDecorationStyle: dotted\">GPT-3.5</a> | 1385.190 ± 44.79  | 84% | 100.0%\n",
      "| 3 | <a target=\"_blank\" href=\"https://huggingface.co/rwkv-world-jpn-55\" style=\"color:#1e50a2, textDecoration: underline,textDecorationStyle: dotted\">rwkv-world-jpn-55</a> | 1075.588 ± 33.45  | 53% | 91.4%\n",
      "| 4 | <a target=\"_blank\" href=\"https://huggingface.co/super-torin-sama-alpha2\" style=\"color:#1e50a2, textDecoration: underline,textDecorationStyle: dotted\">super-torin-sama-alpha2</a> | 1011.454 ± 31.34  | 57% | 100.0%\n",
      "| 5 | <a target=\"_blank\" href=\"https://huggingface.co/rinna/japanese-gpt-neox-3.6b-instruction-ppo\" style=\"color:#1e50a2, textDecoration: underline,textDecorationStyle: dotted\">rinna/japanese-gpt-neox-3.6b-instruction-ppo</a> | 860.117 ± 32.80  | 39% | 61.9%\n",
      "| 6 | <a target=\"_blank\" href=\"https://huggingface.co/izumi-lab/stormy-7b-10ep\" style=\"color:#1e50a2, textDecoration: underline,textDecorationStyle: dotted\">izumi-lab/stormy-7b-10ep</a> | 845.144 ± 33.19  | 33% | 77.5%\n",
      "| 7 | <a target=\"_blank\" href=\"https://huggingface.co/rinna/japanese-gpt-neox-3.6b-instruction-sft-v2\" style=\"color:#1e50a2, textDecoration: underline,textDecorationStyle: dotted\">rinna/japanese-gpt-neox-3.6b-instruction-sft-v2</a> | 810.680 ± 33.68  | 30% | 65.8%\n",
      "| 8 | <a target=\"_blank\" href=\"https://huggingface.co/cyberagent/open-calm-7b\" style=\"color:#1e50a2, textDecoration: underline,textDecorationStyle: dotted\">cyberagent/open-calm-7b</a> | 790.947 ± 33.16  | 27% | 97.3%\n",
      "| 9 | <a target=\"_blank\" href=\"https://huggingface.co/rinna/japanese-gpt-neox-3.6b\" style=\"color:#1e50a2, textDecoration: underline,textDecorationStyle: dotted\">rinna/japanese-gpt-neox-3.6b</a> | 697.818 ± 36.91  | 17% | -100.0%\n",
      "\n"
     ]
    },
    {
     "data": {
      "text/markdown": [
       "| Rank | Model | Strength | Win Rate | Stronger than the next model at confidence level  | \n",
       "| :--- | :---: | :---: | :---: | :---: |\n",
       "| 1 | <a target=\"_blank\" href=\"https://openai.com/\" style=\"color:#1e50a2, textDecoration: underline,textDecorationStyle: dotted\">GPT-4</a> | 1519.967 ± 54.23  | 93% | 99.2%\n",
       "| 2 | <a target=\"_blank\" href=\"https://openai.com/\" style=\"color:#1e50a2, textDecoration: underline,textDecorationStyle: dotted\">GPT-3.5</a> | 1385.190 ± 44.79  | 84% | 100.0%\n",
       "| 3 | <a target=\"_blank\" href=\"https://huggingface.co/rwkv-world-jpn-55\" style=\"color:#1e50a2, textDecoration: underline,textDecorationStyle: dotted\">rwkv-world-jpn-55</a> | 1075.588 ± 33.45  | 53% | 91.4%\n",
       "| 4 | <a target=\"_blank\" href=\"https://huggingface.co/super-torin-sama-alpha2\" style=\"color:#1e50a2, textDecoration: underline,textDecorationStyle: dotted\">super-torin-sama-alpha2</a> | 1011.454 ± 31.34  | 57% | 100.0%\n",
       "| 5 | <a target=\"_blank\" href=\"https://huggingface.co/rinna/japanese-gpt-neox-3.6b-instruction-ppo\" style=\"color:#1e50a2, textDecoration: underline,textDecorationStyle: dotted\">rinna/japanese-gpt-neox-3.6b-instruction-ppo</a> | 860.117 ± 32.80  | 39% | 61.9%\n",
       "| 6 | <a target=\"_blank\" href=\"https://huggingface.co/izumi-lab/stormy-7b-10ep\" style=\"color:#1e50a2, textDecoration: underline,textDecorationStyle: dotted\">izumi-lab/stormy-7b-10ep</a> | 845.144 ± 33.19  | 33% | 77.5%\n",
       "| 7 | <a target=\"_blank\" href=\"https://huggingface.co/rinna/japanese-gpt-neox-3.6b-instruction-sft-v2\" style=\"color:#1e50a2, textDecoration: underline,textDecorationStyle: dotted\">rinna/japanese-gpt-neox-3.6b-instruction-sft-v2</a> | 810.680 ± 33.68  | 30% | 65.8%\n",
       "| 8 | <a target=\"_blank\" href=\"https://huggingface.co/cyberagent/open-calm-7b\" style=\"color:#1e50a2, textDecoration: underline,textDecorationStyle: dotted\">cyberagent/open-calm-7b</a> | 790.947 ± 33.16  | 27% | 97.3%\n",
       "| 9 | <a target=\"_blank\" href=\"https://huggingface.co/rinna/japanese-gpt-neox-3.6b\" style=\"color:#1e50a2, textDecoration: underline,textDecorationStyle: dotted\">rinna/japanese-gpt-neox-3.6b</a> | 697.818 ± 36.91  | 17% | -100.0%\n"
      ],
      "text/plain": [
       "<IPython.core.display.Markdown object>"
      ]
     },
     "metadata": {},
     "output_type": "display_data"
    }
   ],
   "source": [
    "print(table)\n",
    "display(Markdown(table))"
   ]
  }
 ],
 "metadata": {
  "kernelspec": {
   "display_name": "jrank",
   "language": "python",
   "name": "jrank"
  },
  "language_info": {
   "codemirror_mode": {
    "name": "ipython",
    "version": 3
   },
   "file_extension": ".py",
   "mimetype": "text/x-python",
   "name": "python",
   "nbconvert_exporter": "python",
   "pygments_lexer": "ipython3",
   "version": "3.10.8"
  }
 },
 "nbformat": 4,
 "nbformat_minor": 5
}
